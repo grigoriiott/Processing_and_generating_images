{
 "cells": [
  {
   "cell_type": "code",
   "execution_count": 1,
   "id": "9fb247ce",
   "metadata": {},
   "outputs": [],
   "source": [
    "import numpy as np\n",
    "import tensorflow as tf\n",
    "from tensorflow import keras\n",
    "import matplotlib.pyplot as plt\n",
    "import pandas as pd\n",
    "import cv2\n",
    "import glob\n",
    "from sklearn.model_selection import train_test_split\n",
    "from sklearn.metrics import confusion_matrix"
   ]
  },
  {
   "cell_type": "code",
   "execution_count": 2,
   "id": "433994ed",
   "metadata": {},
   "outputs": [],
   "source": [
    "keras.utils.set_random_seed(42)"
   ]
  },
  {
   "cell_type": "code",
   "execution_count": 3,
   "id": "0c4b6f15",
   "metadata": {},
   "outputs": [
    {
     "data": {
      "text/plain": [
       "10000"
      ]
     },
     "execution_count": 3,
     "metadata": {},
     "output_type": "execute_result"
    }
   ],
   "source": [
    "img_paths = glob.glob(\"../dataset/train/*.jpg\")\n",
    "len(img_paths)"
   ]
  },
  {
   "cell_type": "code",
   "execution_count": 4,
   "id": "11dfdae3",
   "metadata": {
    "scrolled": false
   },
   "outputs": [
    {
     "name": "stdout",
     "output_type": "stream",
     "text": [
      "(27, 48, 3)\n"
     ]
    },
    {
     "data": {
      "text/plain": [
       "<matplotlib.image.AxesImage at 0x288c7c850>"
      ]
     },
     "execution_count": 4,
     "metadata": {},
     "output_type": "execute_result"
    },
    {
     "data": {
      "image/png": "[encoded data removed]",
      "text/plain": [
       "<Figure size 640x480 with 1 Axes>"
      ]
     },
     "metadata": {},
     "output_type": "display_data"
    }
   ],
   "source": [
    "img = cv2.imread(img_paths[0])\n",
    "print(img.shape)\n",
    "plt.imshow(cv2.cvtColor(img, cv2.COLOR_BGR2RGB))"
   ]
  },
  {
   "cell_type": "code",
   "execution_count": 5,
   "id": "c051960e",
   "metadata": {},
   "outputs": [],
   "source": [
    "X_train, X_test = train_test_split(img_paths, train_size=0.8, random_state=42)"
   ]
  },
  {
   "cell_type": "code",
   "execution_count": 6,
   "id": "182fe801",
   "metadata": {},
   "outputs": [],
   "source": [
    "def load_img(path):\n",
    "    img = tf.io.read_file(path)\n",
    "    img = tf.image.decode_jpeg(img, 3)\n",
    "    img = tf.image.resize(img,[48, 48])\n",
    "    img = tf.cast(img, tf.float32)\n",
    "    img = img/255\n",
    "    \n",
    "    return img"
   ]
  },
  {
   "cell_type": "code",
   "execution_count": 7,
   "id": "1d2a2ef2",
   "metadata": {},
   "outputs": [
    {
     "name": "stdout",
     "output_type": "stream",
     "text": [
      "Metal device set to: Apple M1\n",
      "8000\n"
     ]
    }
   ],
   "source": [
    "batch_size = 256\n",
    "\n",
    "data_train = tf.data.Dataset.from_tensor_slices(X_train)\n",
    "data_train = data_train.map(load_img)\n",
    "dataset_train = tf.data.Dataset.zip((data_train, data_train))\n",
    "print(len(dataset_train))\n",
    "\n",
    "dataset_train = dataset_train.shuffle(500).batch(batch_size).prefetch(tf.data.experimental.AUTOTUNE)"
   ]
  },
  {
   "cell_type": "code",
   "execution_count": 8,
   "id": "881324a6",
   "metadata": {
    "scrolled": true
   },
   "outputs": [
    {
     "name": "stdout",
     "output_type": "stream",
     "text": [
      "2000\n"
     ]
    }
   ],
   "source": [
    "data_test = tf.data.Dataset.from_tensor_slices(X_test)\n",
    "data_test = data_test.map(load_img)\n",
    "dataset_test = tf.data.Dataset.zip((data_test, data_test))\n",
    "print(len(dataset_test))\n",
    "\n",
    "dataset_test = dataset_test.shuffle(500).batch(batch_size).prefetch(tf.data.experimental.AUTOTUNE)"
   ]
  },
  {
   "cell_type": "code",
   "execution_count": 9,
   "id": "8dfe840c",
   "metadata": {},
   "outputs": [],
   "source": [
    "def load_data(paths):\n",
    "    data = []\n",
    "    for path in paths:\n",
    "        data.append(load_img(path))\n",
    "    return np.asarray(data)"
   ]
  },
  {
   "cell_type": "code",
   "execution_count": 10,
   "id": "9d7690b5",
   "metadata": {},
   "outputs": [
    {
     "data": {
      "text/html": [
       "<div>\n",
       "<style scoped>\n",
       "    .dataframe tbody tr th:only-of-type {\n",
       "        vertical-align: middle;\n",
       "    }\n",
       "\n",
       "    .dataframe tbody tr th {\n",
       "        vertical-align: top;\n",
       "    }\n",
       "\n",
       "    .dataframe thead th {\n",
       "        text-align: right;\n",
       "    }\n",
       "</style>\n",
       "<table border=\"1\" class=\"dataframe\">\n",
       "  <thead>\n",
       "    <tr style=\"text-align: right;\">\n",
       "      <th></th>\n",
       "      <th>img_name</th>\n",
       "      <th>class</th>\n",
       "    </tr>\n",
       "  </thead>\n",
       "  <tbody>\n",
       "    <tr>\n",
       "      <th>0</th>\n",
       "      <td>../dataset/test/imgs/b9bc8d6d-0cb6-40c2-a38d-6...</td>\n",
       "      <td>0</td>\n",
       "    </tr>\n",
       "    <tr>\n",
       "      <th>1</th>\n",
       "      <td>../dataset/test/imgs/9d3893a3-c877-4873-81c5-9...</td>\n",
       "      <td>0</td>\n",
       "    </tr>\n",
       "    <tr>\n",
       "      <th>2</th>\n",
       "      <td>../dataset/test/imgs/4f5cef60-bf06-4daf-be8d-a...</td>\n",
       "      <td>0</td>\n",
       "    </tr>\n",
       "    <tr>\n",
       "      <th>3</th>\n",
       "      <td>../dataset/test/imgs/37ee27b2-89a3-4b66-98a4-f...</td>\n",
       "      <td>0</td>\n",
       "    </tr>\n",
       "    <tr>\n",
       "      <th>4</th>\n",
       "      <td>../dataset/test/imgs/43543d1a-24b6-4018-af56-2...</td>\n",
       "      <td>0</td>\n",
       "    </tr>\n",
       "    <tr>\n",
       "      <th>...</th>\n",
       "      <td>...</td>\n",
       "      <td>...</td>\n",
       "    </tr>\n",
       "    <tr>\n",
       "      <th>3789</th>\n",
       "      <td>../dataset/test/imgs/00bd95dc-4f01-404b-9f59-1...</td>\n",
       "      <td>0</td>\n",
       "    </tr>\n",
       "    <tr>\n",
       "      <th>3790</th>\n",
       "      <td>../dataset/test/imgs/09e62c5f-f3bf-4de2-bc76-2...</td>\n",
       "      <td>0</td>\n",
       "    </tr>\n",
       "    <tr>\n",
       "      <th>3791</th>\n",
       "      <td>../dataset/test/imgs/e92ab320-3577-424f-8c32-f...</td>\n",
       "      <td>0</td>\n",
       "    </tr>\n",
       "    <tr>\n",
       "      <th>3792</th>\n",
       "      <td>../dataset/test/imgs/db135776-bf7f-4450-83b9-5...</td>\n",
       "      <td>0</td>\n",
       "    </tr>\n",
       "    <tr>\n",
       "      <th>3793</th>\n",
       "      <td>../dataset/test/imgs/38d7d789-822b-4f5a-ba71-7...</td>\n",
       "      <td>0</td>\n",
       "    </tr>\n",
       "  </tbody>\n",
       "</table>\n",
       "<p>3794 rows × 2 columns</p>\n",
       "</div>"
      ],
      "text/plain": [
       "                                               img_name  class\n",
       "0     ../dataset/test/imgs/b9bc8d6d-0cb6-40c2-a38d-6...      0\n",
       "1     ../dataset/test/imgs/9d3893a3-c877-4873-81c5-9...      0\n",
       "2     ../dataset/test/imgs/4f5cef60-bf06-4daf-be8d-a...      0\n",
       "3     ../dataset/test/imgs/37ee27b2-89a3-4b66-98a4-f...      0\n",
       "4     ../dataset/test/imgs/43543d1a-24b6-4018-af56-2...      0\n",
       "...                                                 ...    ...\n",
       "3789  ../dataset/test/imgs/00bd95dc-4f01-404b-9f59-1...      0\n",
       "3790  ../dataset/test/imgs/09e62c5f-f3bf-4de2-bc76-2...      0\n",
       "3791  ../dataset/test/imgs/e92ab320-3577-424f-8c32-f...      0\n",
       "3792  ../dataset/test/imgs/db135776-bf7f-4450-83b9-5...      0\n",
       "3793  ../dataset/test/imgs/38d7d789-822b-4f5a-ba71-7...      0\n",
       "\n",
       "[3794 rows x 2 columns]"
      ]
     },
     "execution_count": 10,
     "metadata": {},
     "output_type": "execute_result"
    }
   ],
   "source": [
    "df_test = pd.read_csv(\"../dataset/test/test_annotation.txt\", sep=' ', names = ['img_name', 'class'])\n",
    "df_test['img_name'] = df_test['img_name'].apply(lambda x: \"../dataset/test/imgs/\"+x)\n",
    "test_data = load_data(df_test['img_name'].to_list())\n",
    "df_test"
   ]
  },
  {
   "cell_type": "markdown",
   "id": "32e2309d",
   "metadata": {},
   "source": [
    "# Эксперимент 1"
   ]
  },
  {
   "cell_type": "code",
   "execution_count": 11,
   "id": "139efd71",
   "metadata": {},
   "outputs": [
    {
     "name": "stdout",
     "output_type": "stream",
     "text": [
      "Model: \"model\"\n",
      "_________________________________________________________________\n",
      " Layer (type)                Output Shape              Param #   \n",
      "=================================================================\n",
      " input_1 (InputLayer)        [(None, 48, 48, 3)]       0         \n",
      "                                                                 \n",
      " conv2d (Conv2D)             (None, 48, 48, 32)        896       \n",
      "                                                                 \n",
      " conv2d_1 (Conv2D)           (None, 24, 24, 32)        9248      \n",
      "                                                                 \n",
      " conv2d_2 (Conv2D)           (None, 24, 24, 64)        18496     \n",
      "                                                                 \n",
      " conv2d_3 (Conv2D)           (None, 12, 12, 64)        36928     \n",
      "                                                                 \n",
      " conv2d_4 (Conv2D)           (None, 12, 12, 128)       73856     \n",
      "                                                                 \n",
      " conv2d_5 (Conv2D)           (None, 6, 6, 128)         147584    \n",
      "                                                                 \n",
      " conv2d_6 (Conv2D)           (None, 6, 6, 128)         147584    \n",
      "                                                                 \n",
      " up_sampling2d (UpSampling2  (None, 12, 12, 128)       0         \n",
      " D)                                                              \n",
      "                                                                 \n",
      " conv2d_7 (Conv2D)           (None, 12, 12, 64)        73792     \n",
      "                                                                 \n",
      " up_sampling2d_1 (UpSamplin  (None, 24, 24, 64)        0         \n",
      " g2D)                                                            \n",
      "                                                                 \n",
      " conv2d_8 (Conv2D)           (None, 24, 24, 32)        18464     \n",
      "                                                                 \n",
      " up_sampling2d_2 (UpSamplin  (None, 48, 48, 32)        0         \n",
      " g2D)                                                            \n",
      "                                                                 \n",
      " conv2d_9 (Conv2D)           (None, 48, 48, 3)         867       \n",
      "                                                                 \n",
      "=================================================================\n",
      "Total params: 527715 (2.01 MB)\n",
      "Trainable params: 527715 (2.01 MB)\n",
      "Non-trainable params: 0 (0.00 Byte)\n",
      "_________________________________________________________________\n"
     ]
    }
   ],
   "source": [
    "inputs = keras.Input(shape = (48, 48, 3))\n",
    "x = keras.layers.Conv2D(32, (3, 3), padding='same', activation='relu')(inputs)\n",
    "x = keras.layers.Conv2D(32, (3, 3), padding='same', activation='relu', strides=2)(x)\n",
    "x = keras.layers.Conv2D(64, (3, 3), padding='same', activation='relu')(x)\n",
    "x = keras.layers.Conv2D(64, (3, 3), padding='same', activation='relu', strides=2)(x)\n",
    "x = keras.layers.Conv2D(128, (3, 3), padding='same')(x)\n",
    "x = keras.layers.Conv2D(128, (3, 3), padding='same', strides=2)(x)\n",
    "x = keras.layers.Conv2D(128, (3, 3), padding='same')(x)\n",
    "x = keras.layers.UpSampling2D(2)(x)\n",
    "x = keras.layers.Conv2D(64, (3, 3), padding='same')(x)\n",
    "x = keras.layers.UpSampling2D(2)(x)\n",
    "x = keras.layers.Conv2D(32, (3, 3), padding='same')(x)\n",
    "x = keras.layers.UpSampling2D(2)(x)\n",
    "outputs = keras.layers.Conv2D(3, (3, 3), padding='same', activation = 'sigmoid')(x)\n",
    "model_1 = keras.Model(inputs, outputs)\n",
    "model_1.summary()"
   ]
  },
  {
   "cell_type": "code",
   "execution_count": 12,
   "id": "dd7fba7b",
   "metadata": {},
   "outputs": [],
   "source": [
    "model_1.compile(optimizer=\"Adam\", loss=\"mse\")"
   ]
  },
  {
   "cell_type": "code",
   "execution_count": 13,
   "id": "df6e3a6b",
   "metadata": {},
   "outputs": [
    {
     "name": "stdout",
     "output_type": "stream",
     "text": [
      "Epoch 1/5\n",
      "32/32 [==============================] - 14s 416ms/step - loss: 0.0031 - val_loss: 0.0020\n",
      "Epoch 2/5\n",
      "32/32 [==============================] - 12s 359ms/step - loss: 0.0019 - val_loss: 0.0017\n",
      "Epoch 3/5\n",
      "32/32 [==============================] - 11s 356ms/step - loss: 0.0018 - val_loss: 0.0016\n",
      "Epoch 4/5\n",
      "32/32 [==============================] - 11s 355ms/step - loss: 0.0011 - val_loss: 7.6469e-04\n",
      "Epoch 5/5\n",
      "32/32 [==============================] - 14s 439ms/step - loss: 7.0912e-04 - val_loss: 8.3553e-04\n"
     ]
    }
   ],
   "source": [
    "hist = model_1.fit(dataset_train, epochs = 5, validation_data=dataset_test, \n",
    "                   callbacks=tf.keras.callbacks.TensorBoard(log_dir='../logs/exp1'))"
   ]
  },
  {
   "cell_type": "code",
   "execution_count": 14,
   "id": "5fa50e2f",
   "metadata": {},
   "outputs": [
    {
     "name": "stdout",
     "output_type": "stream",
     "text": [
      "8/8 [==============================] - 1s 129ms/step - loss: 8.3553e-04\n"
     ]
    },
    {
     "data": {
      "text/plain": [
       "0.0008355320314876735"
      ]
     },
     "execution_count": 14,
     "metadata": {},
     "output_type": "execute_result"
    }
   ],
   "source": [
    "model_1.evaluate(dataset_test)"
   ]
  },
  {
   "cell_type": "code",
   "execution_count": 15,
   "id": "d0771e66",
   "metadata": {},
   "outputs": [
    {
     "data": {
      "text/plain": [
       "<Axes: >"
      ]
     },
     "execution_count": 15,
     "metadata": {},
     "output_type": "execute_result"
    },
    {
     "data": {
      "image/png": "[encoded data removed]",
      "text/plain": [
       "<Figure size 640x480 with 1 Axes>"
      ]
     },
     "metadata": {},
     "output_type": "display_data"
    }
   ],
   "source": [
    "#График изменения функции потерь\n",
    "history_df = pd.DataFrame(hist.history)\n",
    "history_df.loc[:, ['loss', 'val_loss']].plot()"
   ]
  },
  {
   "cell_type": "code",
   "execution_count": 16,
   "id": "49cf0fec",
   "metadata": {},
   "outputs": [
    {
     "name": "stdout",
     "output_type": "stream",
     "text": [
      "1/1 [==============================] - 0s 143ms/step\n"
     ]
    },
    {
     "data": {
      "text/plain": [
       "[[], []]"
      ]
     },
     "execution_count": 16,
     "metadata": {},
     "output_type": "execute_result"
    },
    {
     "data": {
      "image/png": "[encoded data removed]",
      "text/plain": [
       "<Figure size 640x480 with 2 Axes>"
      ]
     },
     "metadata": {},
     "output_type": "display_data"
    }
   ],
   "source": [
    "img = np.expand_dims(load_img(X_train[10]), axis=0)\n",
    "res_img = model_1.predict(img)\n",
    "\n",
    "fig, axs = plt.subplots(1, 2)\n",
    "axs[0].imshow(img[0])\n",
    "axs[0].set_title('Original_img')\n",
    "axs[0].set(xticks=[], yticks=[])\n",
    "axs[1].imshow(res_img[0])\n",
    "axs[1].set_title('Processed_img')\n",
    "axs[1].set(xticks=[], yticks=[])"
   ]
  },
  {
   "cell_type": "code",
   "execution_count": 17,
   "id": "62683885",
   "metadata": {
    "scrolled": true
   },
   "outputs": [
    {
     "data": {
      "text/plain": [
       "154"
      ]
     },
     "execution_count": 17,
     "metadata": {},
     "output_type": "execute_result"
    }
   ],
   "source": [
    "proliv_paths = glob.glob(\"../dataset/proliv/*.jpg\")\n",
    "len(proliv_paths)"
   ]
  },
  {
   "cell_type": "code",
   "execution_count": 18,
   "id": "2e47b8b4",
   "metadata": {},
   "outputs": [
    {
     "name": "stdout",
     "output_type": "stream",
     "text": [
      "1/1 [==============================] - 0s 19ms/step\n",
      "MSE = 0.0027002522256225348\n"
     ]
    },
    {
     "data": {
      "image/png": "[encoded data removed]",
      "text/plain": [
       "<Figure size 640x480 with 2 Axes>"
      ]
     },
     "metadata": {},
     "output_type": "display_data"
    }
   ],
   "source": [
    "proliv_img = np.expand_dims(load_img(proliv_paths[130]), axis=0)\n",
    "res_proliv = model_1.predict(proliv_img)\n",
    "\n",
    "fig, axs = plt.subplots(1, 2)\n",
    "axs[0].imshow(proliv_img[0])\n",
    "axs[0].set_title('Original_img')\n",
    "axs[0].set(xticks=[], yticks=[])\n",
    "axs[1].imshow(res_proliv[0])\n",
    "axs[1].set_title('Processed_img')\n",
    "axs[1].set(xticks=[], yticks=[])\n",
    "print(f\"MSE = {np.mean(np.square(proliv_img-res_proliv))}\")"
   ]
  },
  {
   "cell_type": "code",
   "execution_count": 19,
   "id": "0bb06104",
   "metadata": {},
   "outputs": [
    {
     "name": "stdout",
     "output_type": "stream",
     "text": [
      "5/5 [==============================] - 0s 29ms/step\n"
     ]
    }
   ],
   "source": [
    "data_proliv = load_data(proliv_paths)\n",
    "proliv_res = model_1.predict(data_proliv)"
   ]
  },
  {
   "cell_type": "code",
   "execution_count": 20,
   "id": "4d842927",
   "metadata": {},
   "outputs": [
    {
     "name": "stdout",
     "output_type": "stream",
     "text": [
      "0.0031886918\n"
     ]
    }
   ],
   "source": [
    "mse_list = []\n",
    "for i in range(len(proliv_res)):\n",
    "    mse_list.append(np.mean(np.square(data_proliv[i]-proliv_res[i])))\n",
    "mse = np.mean(mse_list)\n",
    "print(mse)"
   ]
  },
  {
   "cell_type": "code",
   "execution_count": 21,
   "id": "c04908ee",
   "metadata": {},
   "outputs": [
    {
     "name": "stdout",
     "output_type": "stream",
     "text": [
      "119/119 [==============================] - 2s 21ms/step\n"
     ]
    }
   ],
   "source": [
    "preds = model_1.predict(test_data)"
   ]
  },
  {
   "cell_type": "code",
   "execution_count": 22,
   "id": "f86060b5",
   "metadata": {},
   "outputs": [],
   "source": [
    "def get_preds(imgs, preds, threshold=1):\n",
    "    labels = []\n",
    "    for i in range(len(preds)):\n",
    "        mse = np.mean(np.square(imgs[i]-preds[i]))\n",
    "        if mse < 0.003*threshold:\n",
    "            labels.append(0)\n",
    "        else: \n",
    "            labels.append(1)\n",
    "    return np.asarray(labels)"
   ]
  },
  {
   "cell_type": "code",
   "execution_count": 23,
   "id": "71bb6f85",
   "metadata": {},
   "outputs": [
    {
     "name": "stdout",
     "output_type": "stream",
     "text": [
      "TPR = 0.9922480620155039, FPR = 0.9184174624829468, threshold = 0.0021, c = 0.7\n",
      "TPR = 0.9922480620155039, FPR = 0.9304229195088677, threshold = 0.0022500000000000003, c = 0.75\n",
      "TPR = 0.9689922480620154, FPR = 0.9377899045020464, threshold = 0.0024000000000000002, c = 0.8\n",
      "TPR = 0.9302325581395349, FPR = 0.9489768076398363, threshold = 0.00255, c = 0.85\n",
      "TPR = 0.8837209302325582, FPR = 0.9585266030013643, threshold = 0.0027, c = 0.9\n",
      "TPR = 0.8604651162790697, FPR = 0.9653478854024556, threshold = 0.00285, c = 0.95\n",
      "TPR = 0.8217054263565892, FPR = 0.9702592087312415, threshold = 0.003, c = 1\n",
      "TPR = 0.7209302325581395, FPR = 0.976261937244202, threshold = 0.0033000000000000004, c = 1.1\n",
      "TPR = 0.5891472868217055, FPR = 0.9787175989085948, threshold = 0.0036, c = 1.2\n",
      "TPR = 0.4263565891472868, FPR = 0.9830832196452933, threshold = 0.0042, c = 1.4\n",
      "TPR = 0.37209302325581395, FPR = 0.9839017735334242, threshold = 0.0045000000000000005, c = 1.5\n",
      "TPR = 0.31007751937984496, FPR = 0.9860845839017736, threshold = 0.0048000000000000004, c = 1.6\n",
      "TPR = 0.08527131782945736, FPR = 0.9896316507503411, threshold = 0.0057, c = 1.9\n",
      "TPR = 0.05426356589147287, FPR = 0.9901773533424284, threshold = 0.006, c = 2\n",
      "TPR = 0.05426356589147287, FPR = 0.990450204638472, threshold = 0.0064800000000000005, c = 2.16\n"
     ]
    }
   ],
   "source": [
    "coef = [0.7, 0.75, 0.8, 0.85, 0.9, 0.95, 1, 1.1, 1.2, 1.4, 1.5, 1.6, 1.9, 2, 2.16]\n",
    "for c in coef:\n",
    "    tn, fp, fn, tp = confusion_matrix(df_test['class'], get_preds(test_data, preds, c)).ravel()\n",
    "    print(\"TPR = {}, FPR = {}, threshold = {}, c = {}\".format(tp/(tp+fn), tn/(tn+fp), c*0.003, c))"
   ]
  },
  {
   "cell_type": "code",
   "execution_count": 24,
   "id": "56a85104",
   "metadata": {},
   "outputs": [],
   "source": [
    "df_test['predicted'] = get_preds(test_data, preds, threshold=0.8)"
   ]
  },
  {
   "cell_type": "code",
   "execution_count": 25,
   "id": "9a6da709",
   "metadata": {},
   "outputs": [
    {
     "name": "stdout",
     "output_type": "stream",
     "text": [
      "TPR = 0.9689922480620154, FPR = 0.9377899045020464, MSE_threshold = 0.0016\n"
     ]
    }
   ],
   "source": [
    "tn, fp, fn, tp = confusion_matrix(df_test['class'], df_test['predicted']).ravel()\n",
    "print(\"TPR = {}, FPR = {}, MSE_threshold = {}\".format(tp/(tp+fn), tn/(tn+fp), 0.0016))"
   ]
  },
  {
   "cell_type": "code",
   "execution_count": 26,
   "id": "321bcf85",
   "metadata": {},
   "outputs": [],
   "source": [
    "model_1.save(\"../Models/hw_2_first.keras\")"
   ]
  },
  {
   "cell_type": "code",
   "execution_count": null,
   "id": "78305117",
   "metadata": {},
   "outputs": [],
   "source": []
  }
 ],
 "metadata": {
  "kernelspec": {
   "display_name": "Python 3 (ipykernel)",
   "language": "python",
   "name": "python3"
  },
  "language_info": {
   "codemirror_mode": {
    "name": "ipython",
    "version": 3
   },
   "file_extension": ".py",
   "mimetype": "text/x-python",
   "name": "python",
   "nbconvert_exporter": "python",
   "pygments_lexer": "ipython3",
   "version": "3.9.16"
  }
 },
 "nbformat": 4,
 "nbformat_minor": 5
}
