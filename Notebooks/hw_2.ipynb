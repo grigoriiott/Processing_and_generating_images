{
 "cells": [
  {
   "cell_type": "code",
   "execution_count": 1,
   "id": "9fb247ce",
   "metadata": {},
   "outputs": [],
   "source": [
    "import numpy as np\n",
    "import tensorflow as tf\n",
    "from tensorflow import keras\n",
    "import matplotlib.pyplot as plt\n",
    "import pandas as pd\n",
    "import cv2\n",
    "import glob\n",
    "from sklearn.model_selection import train_test_split\n",
    "from sklearn.metrics import confusion_matrix"
   ]
  },
  {
   "cell_type": "code",
   "execution_count": 2,
   "id": "433994ed",
   "metadata": {},
   "outputs": [],
   "source": [
    "keras.utils.set_random_seed(42)"
   ]
  },
  {
   "cell_type": "code",
   "execution_count": 3,
   "id": "0c4b6f15",
   "metadata": {},
   "outputs": [
    {
     "data": {
      "text/plain": [
       "10000"
      ]
     },
     "execution_count": 3,
     "metadata": {},
     "output_type": "execute_result"
    }
   ],
   "source": [
    "img_paths = glob.glob(\"../dataset/train/*.jpg\")\n",
    "len(img_paths)"
   ]
  },
  {
   "cell_type": "code",
   "execution_count": 4,
   "id": "11dfdae3",
   "metadata": {
    "scrolled": false
   },
   "outputs": [
    {
     "name": "stdout",
     "output_type": "stream",
     "text": [
      "(27, 48, 3)\n"
     ]
    },
    {
     "data": {
      "text/plain": [
       "<matplotlib.image.AxesImage at 0x285278fd0>"
      ]
     },
     "execution_count": 4,
     "metadata": {},
     "output_type": "execute_result"
    },
    {
     "data": {
      "image/png": "[encoded data removed]",
      "text/plain": [
       "<Figure size 640x480 with 1 Axes>"
      ]
     },
     "metadata": {},
     "output_type": "display_data"
    }
   ],
   "source": [
    "img = cv2.imread(img_paths[0])\n",
    "print(img.shape)\n",
    "plt.imshow(cv2.cvtColor(img, cv2.COLOR_BGR2RGB))"
   ]
  },
  {
   "cell_type": "code",
   "execution_count": 5,
   "id": "c051960e",
   "metadata": {},
   "outputs": [],
   "source": [
    "X_train, X_test = train_test_split(img_paths, train_size=0.8, random_state=42)"
   ]
  },
  {
   "cell_type": "code",
   "execution_count": 6,
   "id": "182fe801",
   "metadata": {},
   "outputs": [],
   "source": [
    "def load_img(path):\n",
    "    img = tf.io.read_file(path)\n",
    "    img = tf.image.decode_jpeg(img, 3)\n",
    "    img = tf.image.resize(img,[48, 48])\n",
    "    img = tf.cast(img, tf.float32)\n",
    "    img = img/255\n",
    "    \n",
    "    return img"
   ]
  },
  {
   "cell_type": "code",
   "execution_count": 7,
   "id": "1d2a2ef2",
   "metadata": {},
   "outputs": [
    {
     "name": "stdout",
     "output_type": "stream",
     "text": [
      "Metal device set to: Apple M1\n",
      "8000\n"
     ]
    }
   ],
   "source": [
    "batch_size = 256\n",
    "\n",
    "data_train = tf.data.Dataset.from_tensor_slices(X_train)\n",
    "data_train = data_train.map(load_img)\n",
    "dataset_train = tf.data.Dataset.zip((data_train, data_train))\n",
    "print(len(dataset_train))\n",
    "\n",
    "dataset_train = dataset_train.shuffle(500).batch(batch_size).prefetch(tf.data.experimental.AUTOTUNE)"
   ]
  },
  {
   "cell_type": "code",
   "execution_count": 8,
   "id": "881324a6",
   "metadata": {
    "scrolled": true
   },
   "outputs": [
    {
     "name": "stdout",
     "output_type": "stream",
     "text": [
      "2000\n"
     ]
    }
   ],
   "source": [
    "data_test = tf.data.Dataset.from_tensor_slices(X_test)\n",
    "data_test = data_test.map(load_img)\n",
    "dataset_test = tf.data.Dataset.zip((data_test, data_test))\n",
    "print(len(dataset_test))\n",
    "\n",
    "dataset_test = dataset_test.shuffle(500).batch(batch_size).prefetch(tf.data.experimental.AUTOTUNE)"
   ]
  },
  {
   "cell_type": "code",
   "execution_count": 9,
   "id": "8dfe840c",
   "metadata": {},
   "outputs": [],
   "source": [
    "def load_data(paths):\n",
    "    data = []\n",
    "    for path in paths:\n",
    "        data.append(load_img(path))\n",
    "    return np.asarray(data)"
   ]
  },
  {
   "cell_type": "code",
   "execution_count": 10,
   "id": "9d7690b5",
   "metadata": {},
   "outputs": [
    {
     "data": {
      "text/html": [
       "<div>\n",
       "<style scoped>\n",
       "    .dataframe tbody tr th:only-of-type {\n",
       "        vertical-align: middle;\n",
       "    }\n",
       "\n",
       "    .dataframe tbody tr th {\n",
       "        vertical-align: top;\n",
       "    }\n",
       "\n",
       "    .dataframe thead th {\n",
       "        text-align: right;\n",
       "    }\n",
       "</style>\n",
       "<table border=\"1\" class=\"dataframe\">\n",
       "  <thead>\n",
       "    <tr style=\"text-align: right;\">\n",
       "      <th></th>\n",
       "      <th>img_name</th>\n",
       "      <th>class</th>\n",
       "    </tr>\n",
       "  </thead>\n",
       "  <tbody>\n",
       "    <tr>\n",
       "      <th>0</th>\n",
       "      <td>../dataset/test/imgs/b9bc8d6d-0cb6-40c2-a38d-6...</td>\n",
       "      <td>0</td>\n",
       "    </tr>\n",
       "    <tr>\n",
       "      <th>1</th>\n",
       "      <td>../dataset/test/imgs/9d3893a3-c877-4873-81c5-9...</td>\n",
       "      <td>0</td>\n",
       "    </tr>\n",
       "    <tr>\n",
       "      <th>2</th>\n",
       "      <td>../dataset/test/imgs/4f5cef60-bf06-4daf-be8d-a...</td>\n",
       "      <td>0</td>\n",
       "    </tr>\n",
       "    <tr>\n",
       "      <th>3</th>\n",
       "      <td>../dataset/test/imgs/37ee27b2-89a3-4b66-98a4-f...</td>\n",
       "      <td>0</td>\n",
       "    </tr>\n",
       "    <tr>\n",
       "      <th>4</th>\n",
       "      <td>../dataset/test/imgs/43543d1a-24b6-4018-af56-2...</td>\n",
       "      <td>0</td>\n",
       "    </tr>\n",
       "    <tr>\n",
       "      <th>...</th>\n",
       "      <td>...</td>\n",
       "      <td>...</td>\n",
       "    </tr>\n",
       "    <tr>\n",
       "      <th>3789</th>\n",
       "      <td>../dataset/test/imgs/00bd95dc-4f01-404b-9f59-1...</td>\n",
       "      <td>0</td>\n",
       "    </tr>\n",
       "    <tr>\n",
       "      <th>3790</th>\n",
       "      <td>../dataset/test/imgs/09e62c5f-f3bf-4de2-bc76-2...</td>\n",
       "      <td>0</td>\n",
       "    </tr>\n",
       "    <tr>\n",
       "      <th>3791</th>\n",
       "      <td>../dataset/test/imgs/e92ab320-3577-424f-8c32-f...</td>\n",
       "      <td>0</td>\n",
       "    </tr>\n",
       "    <tr>\n",
       "      <th>3792</th>\n",
       "      <td>../dataset/test/imgs/db135776-bf7f-4450-83b9-5...</td>\n",
       "      <td>0</td>\n",
       "    </tr>\n",
       "    <tr>\n",
       "      <th>3793</th>\n",
       "      <td>../dataset/test/imgs/38d7d789-822b-4f5a-ba71-7...</td>\n",
       "      <td>0</td>\n",
       "    </tr>\n",
       "  </tbody>\n",
       "</table>\n",
       "<p>3794 rows × 2 columns</p>\n",
       "</div>"
      ],
      "text/plain": [
       "                                               img_name  class\n",
       "0     ../dataset/test/imgs/b9bc8d6d-0cb6-40c2-a38d-6...      0\n",
       "1     ../dataset/test/imgs/9d3893a3-c877-4873-81c5-9...      0\n",
       "2     ../dataset/test/imgs/4f5cef60-bf06-4daf-be8d-a...      0\n",
       "3     ../dataset/test/imgs/37ee27b2-89a3-4b66-98a4-f...      0\n",
       "4     ../dataset/test/imgs/43543d1a-24b6-4018-af56-2...      0\n",
       "...                                                 ...    ...\n",
       "3789  ../dataset/test/imgs/00bd95dc-4f01-404b-9f59-1...      0\n",
       "3790  ../dataset/test/imgs/09e62c5f-f3bf-4de2-bc76-2...      0\n",
       "3791  ../dataset/test/imgs/e92ab320-3577-424f-8c32-f...      0\n",
       "3792  ../dataset/test/imgs/db135776-bf7f-4450-83b9-5...      0\n",
       "3793  ../dataset/test/imgs/38d7d789-822b-4f5a-ba71-7...      0\n",
       "\n",
       "[3794 rows x 2 columns]"
      ]
     },
     "execution_count": 10,
     "metadata": {},
     "output_type": "execute_result"
    }
   ],
   "source": [
    "df_test = pd.read_csv(\"../dataset/test/test_annotation.txt\", sep=' ', names = ['img_name', 'class'])\n",
    "df_test['img_name'] = df_test['img_name'].apply(lambda x: \"../dataset/test/imgs/\"+x)\n",
    "test_data = load_data(df_test['img_name'].to_list())\n",
    "df_test"
   ]
  },
  {
   "cell_type": "code",
   "execution_count": 11,
   "id": "55f4b1b4",
   "metadata": {},
   "outputs": [
    {
     "data": {
      "text/plain": [
       "154"
      ]
     },
     "execution_count": 11,
     "metadata": {},
     "output_type": "execute_result"
    }
   ],
   "source": [
    "proliv_paths = glob.glob(\"../dataset/proliv/*.jpg\")\n",
    "len(proliv_paths)"
   ]
  },
  {
   "cell_type": "code",
   "execution_count": 12,
   "id": "dd7d0583",
   "metadata": {},
   "outputs": [],
   "source": [
    "data_proliv = load_data(proliv_paths)"
   ]
  },
  {
   "cell_type": "markdown",
   "id": "32e2309d",
   "metadata": {},
   "source": [
    "# Эксперимент 1"
   ]
  },
  {
   "cell_type": "code",
   "execution_count": 13,
   "id": "139efd71",
   "metadata": {},
   "outputs": [
    {
     "name": "stdout",
     "output_type": "stream",
     "text": [
      "Model: \"model\"\n",
      "_________________________________________________________________\n",
      " Layer (type)                Output Shape              Param #   \n",
      "=================================================================\n",
      " input_1 (InputLayer)        [(None, 48, 48, 3)]       0         \n",
      "                                                                 \n",
      " conv2d (Conv2D)             (None, 48, 48, 32)        896       \n",
      "                                                                 \n",
      " conv2d_1 (Conv2D)           (None, 24, 24, 32)        9248      \n",
      "                                                                 \n",
      " conv2d_2 (Conv2D)           (None, 24, 24, 64)        18496     \n",
      "                                                                 \n",
      " conv2d_3 (Conv2D)           (None, 12, 12, 64)        36928     \n",
      "                                                                 \n",
      " conv2d_4 (Conv2D)           (None, 12, 12, 128)       73856     \n",
      "                                                                 \n",
      " conv2d_5 (Conv2D)           (None, 6, 6, 128)         147584    \n",
      "                                                                 \n",
      " conv2d_6 (Conv2D)           (None, 6, 6, 128)         147584    \n",
      "                                                                 \n",
      " up_sampling2d (UpSampling2  (None, 12, 12, 128)       0         \n",
      " D)                                                              \n",
      "                                                                 \n",
      " conv2d_7 (Conv2D)           (None, 12, 12, 64)        73792     \n",
      "                                                                 \n",
      " up_sampling2d_1 (UpSamplin  (None, 24, 24, 64)        0         \n",
      " g2D)                                                            \n",
      "                                                                 \n",
      " conv2d_8 (Conv2D)           (None, 24, 24, 32)        18464     \n",
      "                                                                 \n",
      " up_sampling2d_2 (UpSamplin  (None, 48, 48, 32)        0         \n",
      " g2D)                                                            \n",
      "                                                                 \n",
      " conv2d_9 (Conv2D)           (None, 48, 48, 3)         867       \n",
      "                                                                 \n",
      "=================================================================\n",
      "Total params: 527715 (2.01 MB)\n",
      "Trainable params: 527715 (2.01 MB)\n",
      "Non-trainable params: 0 (0.00 Byte)\n",
      "_________________________________________________________________\n"
     ]
    }
   ],
   "source": [
    "inputs = keras.Input(shape = (48, 48, 3))\n",
    "x = keras.layers.Conv2D(32, (3, 3), padding='same', activation='relu')(inputs)\n",
    "x = keras.layers.Conv2D(32, (3, 3), padding='same', activation='relu', strides=2)(x)\n",
    "x = keras.layers.Conv2D(64, (3, 3), padding='same', activation='relu')(x)\n",
    "x = keras.layers.Conv2D(64, (3, 3), padding='same', activation='relu', strides=2)(x)\n",
    "x = keras.layers.Conv2D(128, (3, 3), padding='same')(x)\n",
    "x = keras.layers.Conv2D(128, (3, 3), padding='same', strides=2)(x)\n",
    "x = keras.layers.Conv2D(128, (3, 3), padding='same')(x)\n",
    "x = keras.layers.UpSampling2D(2)(x)\n",
    "x = keras.layers.Conv2D(64, (3, 3), padding='same')(x)\n",
    "x = keras.layers.UpSampling2D(2)(x)\n",
    "x = keras.layers.Conv2D(32, (3, 3), padding='same')(x)\n",
    "x = keras.layers.UpSampling2D(2)(x)\n",
    "outputs = keras.layers.Conv2D(3, (3, 3), padding='same', activation = 'sigmoid')(x)\n",
    "model_1 = keras.Model(inputs, outputs)\n",
    "model_1.summary()"
   ]
  },
  {
   "cell_type": "code",
   "execution_count": 14,
   "id": "dd7fba7b",
   "metadata": {},
   "outputs": [],
   "source": [
    "model_1.compile(optimizer=\"Adam\", loss=\"mse\")"
   ]
  },
  {
   "cell_type": "code",
   "execution_count": 15,
   "id": "df6e3a6b",
   "metadata": {},
   "outputs": [
    {
     "name": "stdout",
     "output_type": "stream",
     "text": [
      "Epoch 1/5\n",
      "32/32 [==============================] - 8s 223ms/step - loss: 0.0031 - val_loss: 0.0020\n",
      "Epoch 2/5\n",
      "32/32 [==============================] - 7s 222ms/step - loss: 0.0019 - val_loss: 0.0017\n",
      "Epoch 3/5\n",
      "32/32 [==============================] - 7s 220ms/step - loss: 0.0018 - val_loss: 0.0016\n",
      "Epoch 4/5\n",
      "32/32 [==============================] - 7s 229ms/step - loss: 0.0011 - val_loss: 7.6469e-04\n",
      "Epoch 5/5\n",
      "32/32 [==============================] - 7s 233ms/step - loss: 7.0912e-04 - val_loss: 8.3553e-04\n"
     ]
    }
   ],
   "source": [
    "hist = model_1.fit(dataset_train, epochs = 5, validation_data=dataset_test, \n",
    "                   callbacks=tf.keras.callbacks.TensorBoard(log_dir='../logs/exp1'))"
   ]
  },
  {
   "cell_type": "code",
   "execution_count": 16,
   "id": "5fa50e2f",
   "metadata": {},
   "outputs": [
    {
     "name": "stdout",
     "output_type": "stream",
     "text": [
      "8/8 [==============================] - 1s 73ms/step - loss: 8.3553e-04\n"
     ]
    },
    {
     "data": {
      "text/plain": [
       "0.0008355320314876735"
      ]
     },
     "execution_count": 16,
     "metadata": {},
     "output_type": "execute_result"
    }
   ],
   "source": [
    "model_1.evaluate(dataset_test)"
   ]
  },
  {
   "cell_type": "code",
   "execution_count": 17,
   "id": "d0771e66",
   "metadata": {},
   "outputs": [
    {
     "data": {
      "text/plain": [
       "<Axes: >"
      ]
     },
     "execution_count": 17,
     "metadata": {},
     "output_type": "execute_result"
    },
    {
     "data": {
      "image/png": "[encoded data removed]",
      "text/plain": [
       "<Figure size 640x480 with 1 Axes>"
      ]
     },
     "metadata": {},
     "output_type": "display_data"
    }
   ],
   "source": [
    "#График изменения функции потерь\n",
    "history_df = pd.DataFrame(hist.history)\n",
    "history_df.loc[:, ['loss', 'val_loss']].plot()"
   ]
  },
  {
   "cell_type": "code",
   "execution_count": 18,
   "id": "49cf0fec",
   "metadata": {},
   "outputs": [
    {
     "name": "stdout",
     "output_type": "stream",
     "text": [
      "1/1 [==============================] - 0s 94ms/step\n"
     ]
    },
    {
     "data": {
      "text/plain": [
       "[[], []]"
      ]
     },
     "execution_count": 18,
     "metadata": {},
     "output_type": "execute_result"
    },
    {
     "data": {
      "image/png": "[encoded data removed]",
      "text/plain": [
       "<Figure size 640x480 with 2 Axes>"
      ]
     },
     "metadata": {},
     "output_type": "display_data"
    }
   ],
   "source": [
    "img = np.expand_dims(load_img(X_train[10]), axis=0)\n",
    "res_img = model_1.predict(img)\n",
    "\n",
    "fig, axs = plt.subplots(1, 2)\n",
    "axs[0].imshow(img[0])\n",
    "axs[0].set_title('Original_img')\n",
    "axs[0].set(xticks=[], yticks=[])\n",
    "axs[1].imshow(res_img[0])\n",
    "axs[1].set_title('Processed_img')\n",
    "axs[1].set(xticks=[], yticks=[])"
   ]
  },
  {
   "cell_type": "code",
   "execution_count": 19,
   "id": "62683885",
   "metadata": {
    "scrolled": true
   },
   "outputs": [
    {
     "data": {
      "text/plain": [
       "154"
      ]
     },
     "execution_count": 19,
     "metadata": {},
     "output_type": "execute_result"
    }
   ],
   "source": [
    "proliv_paths = glob.glob(\"../dataset/proliv/*.jpg\")\n",
    "len(proliv_paths)"
   ]
  },
  {
   "cell_type": "code",
   "execution_count": 20,
   "id": "2e47b8b4",
   "metadata": {},
   "outputs": [
    {
     "name": "stdout",
     "output_type": "stream",
     "text": [
      "1/1 [==============================] - 0s 13ms/step\n",
      "MSE = 0.0027002522256225348\n"
     ]
    },
    {
     "data": {
      "image/png": "[encoded data removed]",
      "text/plain": [
       "<Figure size 640x480 with 2 Axes>"
      ]
     },
     "metadata": {},
     "output_type": "display_data"
    }
   ],
   "source": [
    "proliv_img = np.expand_dims(load_img(proliv_paths[130]), axis=0)\n",
    "res_proliv = model_1.predict(proliv_img)\n",
    "\n",
    "fig, axs = plt.subplots(1, 2)\n",
    "axs[0].imshow(proliv_img[0])\n",
    "axs[0].set_title('Original_img')\n",
    "axs[0].set(xticks=[], yticks=[])\n",
    "axs[1].imshow(res_proliv[0])\n",
    "axs[1].set_title('Processed_img')\n",
    "axs[1].set(xticks=[], yticks=[])\n",
    "print(f\"MSE = {np.mean(np.square(proliv_img-res_proliv))}\")"
   ]
  },
  {
   "cell_type": "markdown",
   "id": "ece18bec",
   "metadata": {},
   "source": [
    "## Построим решающее дерево для определения порогового значения MSE"
   ]
  },
  {
   "cell_type": "code",
   "execution_count": 21,
   "id": "0bb06104",
   "metadata": {},
   "outputs": [
    {
     "name": "stdout",
     "output_type": "stream",
     "text": [
      "5/5 [==============================] - 0s 23ms/step\n"
     ]
    }
   ],
   "source": [
    "data_proliv = load_data(proliv_paths)\n",
    "proliv_res = model_1.predict(data_proliv)"
   ]
  },
  {
   "cell_type": "code",
   "execution_count": 22,
   "id": "4d842927",
   "metadata": {},
   "outputs": [
    {
     "name": "stdout",
     "output_type": "stream",
     "text": [
      "0.0031886918\n"
     ]
    }
   ],
   "source": [
    "mse_list = []\n",
    "for i in range(len(proliv_res)):\n",
    "    mse_list.append(np.mean(np.square(data_proliv[i]-proliv_res[i])))\n",
    "mse = np.mean(mse_list)\n",
    "print(mse)"
   ]
  },
  {
   "cell_type": "code",
   "execution_count": 129,
   "id": "e0a2d874",
   "metadata": {},
   "outputs": [
    {
     "name": "stdout",
     "output_type": "stream",
     "text": [
      "0.00084713235\n"
     ]
    }
   ],
   "source": [
    "orig_imgs = load_data(img_paths[:1000])\n",
    "mse_list_orig = []\n",
    "for i in range(len(orig_imgs)):\n",
    "    mse_list_orig.append(np.mean(np.square(orig_imgs[i]-model_1.predict(np.expand_dims(orig_imgs[i], \n",
    "                                                                                  axis=0), \n",
    "                                                                   verbose=0))))\n",
    "mse = np.mean(mse_list_orig)\n",
    "print(mse)"
   ]
  },
  {
   "cell_type": "code",
   "execution_count": 130,
   "id": "85bc9f2b",
   "metadata": {},
   "outputs": [],
   "source": [
    "orig_data = pd.DataFrame({'mse':mse_list_orig, 'class': [0 for _ in range(len(mse_list_orig))]}, \n",
    "             columns=['mse', 'class'])\n",
    "proliv_data = pd.DataFrame({'mse':mse_list, 'class': [1 for _ in range(len(mse_list))]}, \n",
    "             columns=['mse', 'class'])\n",
    "mse_data = pd.concat([orig_data, proliv_data], axis = 0)"
   ]
  },
  {
   "cell_type": "code",
   "execution_count": 131,
   "id": "7a532076",
   "metadata": {},
   "outputs": [
    {
     "data": {
      "text/html": [
       "<div>\n",
       "<style scoped>\n",
       "    .dataframe tbody tr th:only-of-type {\n",
       "        vertical-align: middle;\n",
       "    }\n",
       "\n",
       "    .dataframe tbody tr th {\n",
       "        vertical-align: top;\n",
       "    }\n",
       "\n",
       "    .dataframe thead th {\n",
       "        text-align: right;\n",
       "    }\n",
       "</style>\n",
       "<table border=\"1\" class=\"dataframe\">\n",
       "  <thead>\n",
       "    <tr style=\"text-align: right;\">\n",
       "      <th></th>\n",
       "      <th>mse</th>\n",
       "      <th>class</th>\n",
       "    </tr>\n",
       "  </thead>\n",
       "  <tbody>\n",
       "    <tr>\n",
       "      <th>0</th>\n",
       "      <td>0.000504</td>\n",
       "      <td>0</td>\n",
       "    </tr>\n",
       "    <tr>\n",
       "      <th>1</th>\n",
       "      <td>0.000536</td>\n",
       "      <td>0</td>\n",
       "    </tr>\n",
       "    <tr>\n",
       "      <th>2</th>\n",
       "      <td>0.000532</td>\n",
       "      <td>0</td>\n",
       "    </tr>\n",
       "    <tr>\n",
       "      <th>3</th>\n",
       "      <td>0.000658</td>\n",
       "      <td>0</td>\n",
       "    </tr>\n",
       "    <tr>\n",
       "      <th>4</th>\n",
       "      <td>0.000555</td>\n",
       "      <td>0</td>\n",
       "    </tr>\n",
       "    <tr>\n",
       "      <th>...</th>\n",
       "      <td>...</td>\n",
       "      <td>...</td>\n",
       "    </tr>\n",
       "    <tr>\n",
       "      <th>1149</th>\n",
       "      <td>0.002926</td>\n",
       "      <td>1</td>\n",
       "    </tr>\n",
       "    <tr>\n",
       "      <th>1150</th>\n",
       "      <td>0.003468</td>\n",
       "      <td>1</td>\n",
       "    </tr>\n",
       "    <tr>\n",
       "      <th>1151</th>\n",
       "      <td>0.002179</td>\n",
       "      <td>1</td>\n",
       "    </tr>\n",
       "    <tr>\n",
       "      <th>1152</th>\n",
       "      <td>0.003869</td>\n",
       "      <td>1</td>\n",
       "    </tr>\n",
       "    <tr>\n",
       "      <th>1153</th>\n",
       "      <td>0.003483</td>\n",
       "      <td>1</td>\n",
       "    </tr>\n",
       "  </tbody>\n",
       "</table>\n",
       "<p>1154 rows × 2 columns</p>\n",
       "</div>"
      ],
      "text/plain": [
       "           mse  class\n",
       "0     0.000504      0\n",
       "1     0.000536      0\n",
       "2     0.000532      0\n",
       "3     0.000658      0\n",
       "4     0.000555      0\n",
       "...        ...    ...\n",
       "1149  0.002926      1\n",
       "1150  0.003468      1\n",
       "1151  0.002179      1\n",
       "1152  0.003869      1\n",
       "1153  0.003483      1\n",
       "\n",
       "[1154 rows x 2 columns]"
      ]
     },
     "execution_count": 131,
     "metadata": {},
     "output_type": "execute_result"
    }
   ],
   "source": [
    "mse_data.reset_index(drop=True)"
   ]
  },
  {
   "cell_type": "code",
   "execution_count": 133,
   "id": "17bc7776",
   "metadata": {},
   "outputs": [],
   "source": [
    "#для удобства отображения \n",
    "mse_data['mse'] = mse_data['mse']*100"
   ]
  },
  {
   "cell_type": "code",
   "execution_count": 134,
   "id": "5e4c9ec3",
   "metadata": {},
   "outputs": [],
   "source": [
    "from sklearn.tree import DecisionTreeClassifier\n",
    "from sklearn import tree\n",
    "model_tree = DecisionTreeClassifier(max_depth=1, criterion='entropy').fit(mse_data.drop(columns='class'), mse_data['class'])"
   ]
  },
  {
   "cell_type": "code",
   "execution_count": 135,
   "id": "245337fa",
   "metadata": {},
   "outputs": [
    {
     "data": {
      "image/png": "[encoded data removed]",
      "text/plain": [
       "<Figure size 1000x1000 with 1 Axes>"
      ]
     },
     "metadata": {},
     "output_type": "display_data"
    }
   ],
   "source": [
    "fig = plt.figure(figsize=(10, 10))\n",
    "_ = tree.plot_tree(model_tree, feature_names=['mse'], filled=True)"
   ]
  },
  {
   "cell_type": "code",
   "execution_count": 136,
   "id": "86370fa6",
   "metadata": {},
   "outputs": [
    {
     "data": {
      "text/plain": [
       "0.00213"
      ]
     },
     "execution_count": 136,
     "metadata": {},
     "output_type": "execute_result"
    }
   ],
   "source": [
    "threshold = 0.213 / 100\n",
    "threshold"
   ]
  },
  {
   "cell_type": "markdown",
   "id": "81a7fb8c",
   "metadata": {},
   "source": [
    "## Выполним предсказания на тестовом наборе данных"
   ]
  },
  {
   "cell_type": "code",
   "execution_count": 137,
   "id": "c04908ee",
   "metadata": {},
   "outputs": [
    {
     "name": "stdout",
     "output_type": "stream",
     "text": [
      "119/119 [==============================] - 2s 18ms/step\n"
     ]
    }
   ],
   "source": [
    "preds = model_1.predict(test_data)"
   ]
  },
  {
   "cell_type": "code",
   "execution_count": 140,
   "id": "f86060b5",
   "metadata": {},
   "outputs": [],
   "source": [
    "def get_preds(imgs, preds, threshold=0.1):\n",
    "    labels = []\n",
    "    for i in range(len(preds)):\n",
    "        mse = np.mean(np.square(imgs[i]-preds[i]))\n",
    "        if mse < threshold:\n",
    "            labels.append(0)\n",
    "        else: \n",
    "            labels.append(1)\n",
    "    return np.asarray(labels)"
   ]
  },
  {
   "cell_type": "code",
   "execution_count": 141,
   "id": "71bb6f85",
   "metadata": {},
   "outputs": [
    {
     "name": "stdout",
     "output_type": "stream",
     "text": [
      "TPR = 0.9922480620155039, FPR = 0.9238744884038199, threshold = 0.00213\n"
     ]
    }
   ],
   "source": [
    "tn, fp, fn, tp = confusion_matrix(df_test['class'], get_preds(test_data, preds, threshold=threshold)).ravel()\n",
    "print(\"TPR = {}, FPR = {}, threshold = {}\".format(tp/(tp+fn), tn/(tn+fp), threshold))"
   ]
  },
  {
   "cell_type": "code",
   "execution_count": 142,
   "id": "56a85104",
   "metadata": {},
   "outputs": [],
   "source": [
    "df_test['predicted'] = get_preds(test_data, preds, threshold=threshold)"
   ]
  },
  {
   "cell_type": "code",
   "execution_count": 144,
   "id": "9a6da709",
   "metadata": {
    "scrolled": true
   },
   "outputs": [
    {
     "name": "stdout",
     "output_type": "stream",
     "text": [
      "TPR = 0.9922480620155039, FPR = 0.9238744884038199, MSE_threshold = 0.00213\n"
     ]
    }
   ],
   "source": [
    "tn, fp, fn, tp = confusion_matrix(df_test['class'], df_test['predicted']).ravel()\n",
    "print(\"TPR = {}, FPR = {}, MSE_threshold = {}\".format(tp/(tp+fn), tn/(tn+fp), threshold))"
   ]
  },
  {
   "cell_type": "code",
   "execution_count": 26,
   "id": "321bcf85",
   "metadata": {},
   "outputs": [],
   "source": [
    "model_1.save(\"../Models/hw_2_first.keras\")"
   ]
  },
  {
   "cell_type": "markdown",
   "id": "ed4955ce",
   "metadata": {},
   "source": [
    "По итогу удалось достичь требуемых значений метрик"
   ]
  },
  {
   "cell_type": "markdown",
   "id": "e28fc9a8",
   "metadata": {},
   "source": [
    "# Exp 2\n",
    "GAN"
   ]
  },
  {
   "cell_type": "code",
   "execution_count": 145,
   "id": "81d76579",
   "metadata": {},
   "outputs": [],
   "source": [
    "batch_size = 256\n",
    "\n",
    "data_train = tf.data.Dataset.from_tensor_slices(X_train)\n",
    "data_train = data_train.map(load_img)\n",
    "data_train = data_train.shuffle(500).batch(batch_size).prefetch(tf.data.experimental.AUTOTUNE)"
   ]
  },
  {
   "cell_type": "code",
   "execution_count": 147,
   "id": "d6f3e797",
   "metadata": {},
   "outputs": [],
   "source": [
    "hiden_dim = 2"
   ]
  },
  {
   "cell_type": "code",
   "execution_count": 148,
   "id": "77677ec6",
   "metadata": {},
   "outputs": [
    {
     "name": "stdout",
     "output_type": "stream",
     "text": [
      "Model: \"model_1\"\n",
      "_________________________________________________________________\n",
      " Layer (type)                Output Shape              Param #   \n",
      "=================================================================\n",
      " input_2 (InputLayer)        [(None, 2)]               0         \n",
      "                                                                 \n",
      " dense (Dense)               (None, 512)               1536      \n",
      "                                                                 \n",
      " dense_1 (Dense)             (None, 9216)              4727808   \n",
      "                                                                 \n",
      " batch_normalization (Batch  (None, 9216)              36864     \n",
      " Normalization)                                                  \n",
      "                                                                 \n",
      " reshape (Reshape)           (None, 6, 6, 256)         0         \n",
      "                                                                 \n",
      " conv2d_transpose (Conv2DTr  (None, 6, 6, 128)         819328    \n",
      " anspose)                                                        \n",
      "                                                                 \n",
      " batch_normalization_1 (Bat  (None, 6, 6, 128)         512       \n",
      " chNormalization)                                                \n",
      "                                                                 \n",
      " conv2d_transpose_1 (Conv2D  (None, 12, 12, 64)        204864    \n",
      " Transpose)                                                      \n",
      "                                                                 \n",
      " batch_normalization_2 (Bat  (None, 12, 12, 64)        256       \n",
      " chNormalization)                                                \n",
      "                                                                 \n",
      " conv2d_transpose_2 (Conv2D  (None, 24, 24, 32)        51232     \n",
      " Transpose)                                                      \n",
      "                                                                 \n",
      " batch_normalization_3 (Bat  (None, 24, 24, 32)        128       \n",
      " chNormalization)                                                \n",
      "                                                                 \n",
      " conv2d_transpose_3 (Conv2D  (None, 48, 48, 3)         2403      \n",
      " Transpose)                                                      \n",
      "                                                                 \n",
      "=================================================================\n",
      "Total params: 5844931 (22.30 MB)\n",
      "Trainable params: 5826051 (22.22 MB)\n",
      "Non-trainable params: 18880 (73.75 KB)\n",
      "_________________________________________________________________\n"
     ]
    }
   ],
   "source": [
    "# generator\n",
    "g_inputs = keras.layers.Input(shape=(hiden_dim, ))\n",
    "g_x = keras.layers.Dense(512, activation='relu')(g_inputs)\n",
    "g_x = keras.layers.Dense(6*6*256, activation='relu')(g_x)\n",
    "g_x = keras.layers.BatchNormalization()(g_x)\n",
    "g_x = keras.layers.Reshape((6, 6, 256))(g_x)\n",
    "g_x = keras.layers.Conv2DTranspose(128, (5, 5), strides=(1, 1), padding='same', activation='relu')(g_x)\n",
    "g_x = keras.layers.BatchNormalization()(g_x)\n",
    "g_x = keras.layers.Conv2DTranspose(64, (5, 5), strides=(2, 2), padding='same', activation='relu')(g_x)\n",
    "g_x = keras.layers.BatchNormalization()(g_x)\n",
    "g_x = keras.layers.Conv2DTranspose(32, (5, 5), strides=(2, 2), padding='same', activation='relu')(g_x)\n",
    "g_x = keras.layers.BatchNormalization()(g_x)\n",
    "g_output = keras.layers.Conv2DTranspose(3, (5, 5), strides=(2, 2), padding='same', activation='sigmoid')(g_x)\n",
    "\n",
    "generator = keras.Model(g_inputs, g_output)\n",
    "generator.summary()"
   ]
  },
  {
   "cell_type": "code",
   "execution_count": 149,
   "id": "ec1d295f",
   "metadata": {
    "scrolled": true
   },
   "outputs": [
    {
     "name": "stdout",
     "output_type": "stream",
     "text": [
      "Model: \"model_2\"\n",
      "_________________________________________________________________\n",
      " Layer (type)                Output Shape              Param #   \n",
      "=================================================================\n",
      " input_3 (InputLayer)        [(None, 48, 48, 3)]       0         \n",
      "                                                                 \n",
      " conv2d_10 (Conv2D)          (None, 24, 24, 64)        4864      \n",
      "                                                                 \n",
      " leaky_re_lu (LeakyReLU)     (None, 24, 24, 64)        0         \n",
      "                                                                 \n",
      " conv2d_11 (Conv2D)          (None, 12, 12, 128)       204928    \n",
      "                                                                 \n",
      " leaky_re_lu_1 (LeakyReLU)   (None, 12, 12, 128)       0         \n",
      "                                                                 \n",
      " dropout (Dropout)           (None, 12, 12, 128)       0         \n",
      "                                                                 \n",
      " flatten (Flatten)           (None, 18432)             0         \n",
      "                                                                 \n",
      " dense_2 (Dense)             (None, 1024)              18875392  \n",
      "                                                                 \n",
      " dense_3 (Dense)             (None, 512)               524800    \n",
      "                                                                 \n",
      " dense_4 (Dense)             (None, 1)                 513       \n",
      "                                                                 \n",
      "=================================================================\n",
      "Total params: 19610497 (74.81 MB)\n",
      "Trainable params: 19610497 (74.81 MB)\n",
      "Non-trainable params: 0 (0.00 Byte)\n",
      "_________________________________________________________________\n"
     ]
    }
   ],
   "source": [
    "# discriminator\n",
    "d_inputs = keras.Input(shape = (48, 48, 3))\n",
    "d_x = keras.layers.Conv2D(64, (5, 5), strides=(2, 2), padding='same')(d_inputs)\n",
    "d_x = keras.layers.LeakyReLU()(d_x)\n",
    "d_x = keras.layers.Conv2D(128, (5, 5), strides=(2, 2), padding='same')(d_x)\n",
    "d_x = keras.layers.LeakyReLU()(d_x)\n",
    "d_x = keras.layers.Dropout(0.3)(d_x)\n",
    "d_x = keras.layers.Flatten()(d_x)\n",
    "d_x = keras.layers.Dense(1024, activation='relu')(d_x)\n",
    "d_x = keras.layers.Dense(512, activation='relu')(d_x)\n",
    "d_output = keras.layers.Dense(1)(d_x)\n",
    "\n",
    "discriminator = keras.Model(d_inputs, d_output)\n",
    "discriminator.summary()"
   ]
  },
  {
   "cell_type": "code",
   "execution_count": 150,
   "id": "d94ea8cb",
   "metadata": {},
   "outputs": [],
   "source": [
    "cross_entropy = keras.losses.BinaryCrossentropy(from_logits=True)"
   ]
  },
  {
   "cell_type": "code",
   "execution_count": 151,
   "id": "51f39dc2",
   "metadata": {},
   "outputs": [],
   "source": [
    "def generator_loss(fake_output):\n",
    "    loss = cross_entropy(tf.ones_like(fake_output), fake_output)\n",
    "    return loss\n",
    "\n",
    "def discriminator_loss(real_output, fake_output):\n",
    "    real_loss = cross_entropy(tf.ones_like(real_output), real_output)\n",
    "    fake_loss = cross_entropy(tf.zeros_like(fake_output), fake_output)\n",
    "    total_loss = real_loss + fake_loss\n",
    "    return total_loss"
   ]
  },
  {
   "cell_type": "code",
   "execution_count": 152,
   "id": "d4112257",
   "metadata": {},
   "outputs": [],
   "source": [
    "generator_optim = keras.optimizers.legacy.Adam(5e-5)\n",
    "discriminator_optim = keras.optimizers.legacy.Adam(5e-5)"
   ]
  },
  {
   "cell_type": "code",
   "execution_count": 153,
   "id": "31e5ea63",
   "metadata": {},
   "outputs": [],
   "source": [
    "@tf.function\n",
    "def train_step(images):\n",
    "    noise = tf.random.normal([256, hiden_dim])\n",
    "    \n",
    "    with tf.GradientTape() as gen_tape, tf.GradientTape() as disc_tape:\n",
    "        generated_images = generator(noise, training=True)\n",
    "        \n",
    "        real_output = discriminator(images, training=True)\n",
    "        fake_output = discriminator(generated_images, training=True)\n",
    "        \n",
    "        gen_loss = generator_loss(fake_output)\n",
    "        disc_loss = discriminator_loss(real_output, fake_output)\n",
    "        \n",
    "    gradients_of_gen = gen_tape.gradient(gen_loss, generator.trainable_variables)\n",
    "    gradients_of_disc = disc_tape.gradient(disc_loss, discriminator.trainable_variables)\n",
    "    \n",
    "    generator_optim.apply_gradients(zip(gradients_of_gen, generator.trainable_variables))\n",
    "    discriminator_optim.apply_gradients(zip(gradients_of_disc, discriminator.trainable_variables))\n",
    "    \n",
    "    return gen_loss, disc_loss"
   ]
  },
  {
   "cell_type": "code",
   "execution_count": 154,
   "id": "1bc0da63",
   "metadata": {},
   "outputs": [],
   "source": [
    "def train(dataset, epochs):\n",
    "    history = []\n",
    "    MAX_PRINT = 1\n",
    "    th = 500//(256*MAX_PRINT)\n",
    "    \n",
    "    for epoch in range(1, epochs+1):\n",
    "        print(f'{epoch}/{EPOCHS}: ', end='')\n",
    "        \n",
    "        n = 0\n",
    "        \n",
    "        gen_loss_epoch = 0\n",
    "        for image_batch in dataset:\n",
    "            gen_loss, disc_loss = train_step(image_batch)\n",
    "            gen_loss_epoch += keras.backend.mean(gen_loss)\n",
    "            if (n%th == 0): print('=', end='')\n",
    "            n += 1\n",
    "        history += [gen_loss_epoch/n]\n",
    "        print(': '+str(history[-1]))\n",
    "        \n",
    "    return history"
   ]
  },
  {
   "cell_type": "code",
   "execution_count": 155,
   "id": "dac5e17f",
   "metadata": {
    "scrolled": true
   },
   "outputs": [
    {
     "name": "stdout",
     "output_type": "stream",
     "text": [
      "1/200: ================================: tf.Tensor(1.8256557, shape=(), dtype=float32)\n",
      "2/200: ================================: tf.Tensor(5.8765893, shape=(), dtype=float32)\n",
      "3/200: ================================: tf.Tensor(4.575982, shape=(), dtype=float32)\n",
      "4/200: ================================: tf.Tensor(2.8149323, shape=(), dtype=float32)\n",
      "5/200: ================================: tf.Tensor(2.7621071, shape=(), dtype=float32)\n",
      "6/200: ================================: tf.Tensor(2.6244776, shape=(), dtype=float32)\n",
      "7/200: ================================: tf.Tensor(2.1770282, shape=(), dtype=float32)\n",
      "8/200: ================================: tf.Tensor(2.1596768, shape=(), dtype=float32)\n",
      "9/200: ================================: tf.Tensor(2.0363922, shape=(), dtype=float32)\n",
      "10/200: ================================: tf.Tensor(2.1625295, shape=(), dtype=float32)\n",
      "11/200: ================================: tf.Tensor(2.240078, shape=(), dtype=float32)\n",
      "12/200: ================================: tf.Tensor(2.084162, shape=(), dtype=float32)\n",
      "13/200: ================================: tf.Tensor(1.9552952, shape=(), dtype=float32)\n",
      "14/200: ================================: tf.Tensor(1.9786973, shape=(), dtype=float32)\n",
      "15/200: ================================: tf.Tensor(1.7167306, shape=(), dtype=float32)\n",
      "16/200: ================================: tf.Tensor(1.4821069, shape=(), dtype=float32)\n",
      "17/200: ================================: tf.Tensor(1.2516682, shape=(), dtype=float32)\n",
      "18/200: ================================: tf.Tensor(1.1824622, shape=(), dtype=float32)\n",
      "19/200: ================================: tf.Tensor(1.1727321, shape=(), dtype=float32)\n",
      "20/200: ================================: tf.Tensor(1.0614754, shape=(), dtype=float32)\n",
      "21/200: ================================: tf.Tensor(1.0328186, shape=(), dtype=float32)\n",
      "22/200: ================================: tf.Tensor(0.9156883, shape=(), dtype=float32)\n",
      "23/200: ================================: tf.Tensor(0.8829243, shape=(), dtype=float32)\n",
      "24/200: ================================: tf.Tensor(0.8205908, shape=(), dtype=float32)\n",
      "25/200: ================================: tf.Tensor(0.7803033, shape=(), dtype=float32)\n",
      "26/200: ================================: tf.Tensor(0.74360025, shape=(), dtype=float32)\n",
      "27/200: ================================: tf.Tensor(0.7822424, shape=(), dtype=float32)\n",
      "28/200: ================================: tf.Tensor(0.7826217, shape=(), dtype=float32)\n",
      "29/200: ================================: tf.Tensor(0.756294, shape=(), dtype=float32)\n",
      "30/200: ================================: tf.Tensor(0.7352281, shape=(), dtype=float32)\n",
      "31/200: ================================: tf.Tensor(0.72021437, shape=(), dtype=float32)\n",
      "32/200: ================================: tf.Tensor(0.65305346, shape=(), dtype=float32)\n",
      "33/200: ================================: tf.Tensor(0.7305022, shape=(), dtype=float32)\n",
      "34/200: ================================: tf.Tensor(0.7240852, shape=(), dtype=float32)\n",
      "35/200: ================================: tf.Tensor(0.71297526, shape=(), dtype=float32)\n",
      "36/200: ================================: tf.Tensor(0.6556468, shape=(), dtype=float32)\n",
      "37/200: ================================: tf.Tensor(0.66412115, shape=(), dtype=float32)\n",
      "38/200: ================================: tf.Tensor(0.6588003, shape=(), dtype=float32)\n",
      "39/200: ================================: tf.Tensor(0.6651037, shape=(), dtype=float32)\n",
      "40/200: ================================: tf.Tensor(0.6888418, shape=(), dtype=float32)\n",
      "41/200: ================================: tf.Tensor(0.64756215, shape=(), dtype=float32)\n",
      "42/200: ================================: tf.Tensor(0.69595826, shape=(), dtype=float32)\n",
      "43/200: ================================: tf.Tensor(0.62825036, shape=(), dtype=float32)\n",
      "44/200: ================================: tf.Tensor(0.6981797, shape=(), dtype=float32)\n",
      "45/200: ================================: tf.Tensor(0.66999733, shape=(), dtype=float32)\n",
      "46/200: ================================: tf.Tensor(0.6601481, shape=(), dtype=float32)\n",
      "47/200: ================================: tf.Tensor(0.6926662, shape=(), dtype=float32)\n",
      "48/200: ================================: tf.Tensor(0.669959, shape=(), dtype=float32)\n",
      "49/200: ================================: tf.Tensor(0.684826, shape=(), dtype=float32)\n",
      "50/200: ================================: tf.Tensor(0.69778675, shape=(), dtype=float32)\n",
      "51/200: ================================: tf.Tensor(0.69665277, shape=(), dtype=float32)\n",
      "52/200: ================================: tf.Tensor(0.6978244, shape=(), dtype=float32)\n",
      "53/200: ================================: tf.Tensor(0.7005884, shape=(), dtype=float32)\n",
      "54/200: ================================: tf.Tensor(0.6922017, shape=(), dtype=float32)\n",
      "55/200: ================================: tf.Tensor(0.69156855, shape=(), dtype=float32)\n",
      "56/200: ================================: tf.Tensor(0.6947701, shape=(), dtype=float32)\n",
      "57/200: ================================: tf.Tensor(0.6871736, shape=(), dtype=float32)\n",
      "58/200: ================================: tf.Tensor(0.70601, shape=(), dtype=float32)\n",
      "59/200: ================================: tf.Tensor(0.6938511, shape=(), dtype=float32)\n",
      "60/200: ================================: tf.Tensor(0.67498595, shape=(), dtype=float32)\n",
      "61/200: ================================: tf.Tensor(0.6904465, shape=(), dtype=float32)\n",
      "62/200: ================================: tf.Tensor(0.68595, shape=(), dtype=float32)\n",
      "63/200: ================================: tf.Tensor(0.6948847, shape=(), dtype=float32)\n",
      "64/200: ================================: tf.Tensor(0.6926046, shape=(), dtype=float32)\n",
      "65/200: ================================: tf.Tensor(0.72246003, shape=(), dtype=float32)\n",
      "66/200: ================================: tf.Tensor(0.6960355, shape=(), dtype=float32)\n",
      "67/200: ================================: tf.Tensor(0.66292775, shape=(), dtype=float32)\n",
      "68/200: ================================: tf.Tensor(0.73630166, shape=(), dtype=float32)\n",
      "69/200: ================================: tf.Tensor(0.6612313, shape=(), dtype=float32)\n",
      "70/200: ================================: tf.Tensor(0.772999, shape=(), dtype=float32)\n",
      "71/200: ================================: tf.Tensor(0.72324437, shape=(), dtype=float32)\n",
      "72/200: ================================: tf.Tensor(0.8928803, shape=(), dtype=float32)\n",
      "73/200: ================================: tf.Tensor(0.9814565, shape=(), dtype=float32)\n",
      "74/200: ================================: tf.Tensor(1.2040908, shape=(), dtype=float32)\n",
      "75/200: ================================: tf.Tensor(0.78760093, shape=(), dtype=float32)\n",
      "76/200: ================================: tf.Tensor(1.144687, shape=(), dtype=float32)\n",
      "77/200: ================================: tf.Tensor(0.7026199, shape=(), dtype=float32)\n",
      "78/200: ================================: tf.Tensor(0.88837224, shape=(), dtype=float32)\n",
      "79/200: ================================: tf.Tensor(0.9588847, shape=(), dtype=float32)\n",
      "80/200: ================================: tf.Tensor(0.92070407, shape=(), dtype=float32)\n",
      "81/200: ================================: tf.Tensor(0.90080136, shape=(), dtype=float32)\n",
      "82/200: ================================: tf.Tensor(0.88084865, shape=(), dtype=float32)\n",
      "83/200: ================================: tf.Tensor(0.86732733, shape=(), dtype=float32)\n",
      "84/200: ================================: tf.Tensor(0.9328409, shape=(), dtype=float32)\n",
      "85/200: ================================: tf.Tensor(0.7742312, shape=(), dtype=float32)\n",
      "86/200: ================================: tf.Tensor(0.87593204, shape=(), dtype=float32)\n",
      "87/200: ================================: tf.Tensor(0.82025456, shape=(), dtype=float32)\n",
      "88/200: ================================: tf.Tensor(0.89806813, shape=(), dtype=float32)\n",
      "89/200: ================================: tf.Tensor(1.135877, shape=(), dtype=float32)\n",
      "90/200: ================================: tf.Tensor(0.7544226, shape=(), dtype=float32)\n",
      "91/200: ================================: tf.Tensor(0.7802781, shape=(), dtype=float32)\n",
      "92/200: ================================: tf.Tensor(0.8611076, shape=(), dtype=float32)\n",
      "93/200: ================================: tf.Tensor(0.88909584, shape=(), dtype=float32)\n"
     ]
    },
    {
     "name": "stdout",
     "output_type": "stream",
     "text": [
      "94/200: ================================: tf.Tensor(0.81215966, shape=(), dtype=float32)\n",
      "95/200: ================================: tf.Tensor(1.194853, shape=(), dtype=float32)\n",
      "96/200: ================================: tf.Tensor(0.7880968, shape=(), dtype=float32)\n",
      "97/200: ================================: tf.Tensor(0.8785691, shape=(), dtype=float32)\n",
      "98/200: ================================: tf.Tensor(0.87362903, shape=(), dtype=float32)\n",
      "99/200: ================================: tf.Tensor(1.1778562, shape=(), dtype=float32)\n",
      "100/200: ================================: tf.Tensor(1.0828767, shape=(), dtype=float32)\n",
      "101/200: ================================: tf.Tensor(0.95893884, shape=(), dtype=float32)\n",
      "102/200: ================================: tf.Tensor(0.8634793, shape=(), dtype=float32)\n",
      "103/200: ================================: tf.Tensor(0.83977354, shape=(), dtype=float32)\n",
      "104/200: ================================: tf.Tensor(0.9788127, shape=(), dtype=float32)\n",
      "105/200: ================================: tf.Tensor(0.9471396, shape=(), dtype=float32)\n",
      "106/200: ================================: tf.Tensor(0.9443966, shape=(), dtype=float32)\n",
      "107/200: ================================: tf.Tensor(0.80631894, shape=(), dtype=float32)\n",
      "108/200: ================================: tf.Tensor(0.96250063, shape=(), dtype=float32)\n",
      "109/200: ================================: tf.Tensor(0.90321416, shape=(), dtype=float32)\n",
      "110/200: ================================: tf.Tensor(0.8693508, shape=(), dtype=float32)\n",
      "111/200: ================================: tf.Tensor(0.9956355, shape=(), dtype=float32)\n",
      "112/200: ================================: tf.Tensor(1.1886709, shape=(), dtype=float32)\n",
      "113/200: ================================: tf.Tensor(1.0505573, shape=(), dtype=float32)\n",
      "114/200: ================================: tf.Tensor(1.0329993, shape=(), dtype=float32)\n",
      "115/200: ================================: tf.Tensor(0.8488814, shape=(), dtype=float32)\n",
      "116/200: ================================: tf.Tensor(1.1303725, shape=(), dtype=float32)\n",
      "117/200: ================================: tf.Tensor(0.6537192, shape=(), dtype=float32)\n",
      "118/200: ================================: tf.Tensor(0.99765366, shape=(), dtype=float32)\n",
      "119/200: ================================: tf.Tensor(0.739289, shape=(), dtype=float32)\n",
      "120/200: ================================: tf.Tensor(0.85340804, shape=(), dtype=float32)\n",
      "121/200: ================================: tf.Tensor(0.8856862, shape=(), dtype=float32)\n",
      "122/200: ================================: tf.Tensor(0.6874198, shape=(), dtype=float32)\n",
      "123/200: ================================: tf.Tensor(0.7120407, shape=(), dtype=float32)\n",
      "124/200: ================================: tf.Tensor(0.95319813, shape=(), dtype=float32)\n",
      "125/200: ================================: tf.Tensor(0.6819368, shape=(), dtype=float32)\n",
      "126/200: ================================: tf.Tensor(0.8379961, shape=(), dtype=float32)\n",
      "127/200: ================================: tf.Tensor(0.8817517, shape=(), dtype=float32)\n",
      "128/200: ================================: tf.Tensor(0.6658531, shape=(), dtype=float32)\n",
      "129/200: ================================: tf.Tensor(0.7629242, shape=(), dtype=float32)\n",
      "130/200: ================================: tf.Tensor(0.7171424, shape=(), dtype=float32)\n",
      "131/200: ================================: tf.Tensor(0.97138935, shape=(), dtype=float32)\n",
      "132/200: ================================: tf.Tensor(0.7933567, shape=(), dtype=float32)\n",
      "133/200: ================================: tf.Tensor(0.7636896, shape=(), dtype=float32)\n",
      "134/200: ================================: tf.Tensor(0.82419187, shape=(), dtype=float32)\n",
      "135/200: ================================: tf.Tensor(0.76849836, shape=(), dtype=float32)\n",
      "136/200: ================================: tf.Tensor(0.7638251, shape=(), dtype=float32)\n",
      "137/200: ================================: tf.Tensor(0.8497115, shape=(), dtype=float32)\n",
      "138/200: ================================: tf.Tensor(0.72906166, shape=(), dtype=float32)\n",
      "139/200: ================================: tf.Tensor(0.88701725, shape=(), dtype=float32)\n",
      "140/200: ================================: tf.Tensor(0.83633626, shape=(), dtype=float32)\n",
      "141/200: ================================: tf.Tensor(0.81796026, shape=(), dtype=float32)\n",
      "142/200: ================================: tf.Tensor(0.6139455, shape=(), dtype=float32)\n",
      "143/200: ================================: tf.Tensor(0.8402796, shape=(), dtype=float32)\n",
      "144/200: ================================: tf.Tensor(0.98612833, shape=(), dtype=float32)\n",
      "145/200: ================================: tf.Tensor(0.9853425, shape=(), dtype=float32)\n",
      "146/200: ================================: tf.Tensor(0.6944418, shape=(), dtype=float32)\n",
      "147/200: ================================: tf.Tensor(0.80109525, shape=(), dtype=float32)\n",
      "148/200: ================================: tf.Tensor(0.7423491, shape=(), dtype=float32)\n",
      "149/200: ================================: tf.Tensor(0.7892568, shape=(), dtype=float32)\n",
      "150/200: ================================: tf.Tensor(0.6328673, shape=(), dtype=float32)\n",
      "151/200: ================================: tf.Tensor(0.94673014, shape=(), dtype=float32)\n",
      "152/200: ================================: tf.Tensor(0.7699735, shape=(), dtype=float32)\n",
      "153/200: ================================: tf.Tensor(0.8897178, shape=(), dtype=float32)\n",
      "154/200: ================================: tf.Tensor(0.83096313, shape=(), dtype=float32)\n",
      "155/200: ================================: tf.Tensor(0.8385046, shape=(), dtype=float32)\n",
      "156/200: ================================: tf.Tensor(0.9406797, shape=(), dtype=float32)\n",
      "157/200: ================================: tf.Tensor(0.72907114, shape=(), dtype=float32)\n",
      "158/200: ================================: tf.Tensor(0.739786, shape=(), dtype=float32)\n",
      "159/200: ================================: tf.Tensor(0.7217318, shape=(), dtype=float32)\n",
      "160/200: ================================: tf.Tensor(1.0395914, shape=(), dtype=float32)\n",
      "161/200: ================================: tf.Tensor(0.5323379, shape=(), dtype=float32)\n",
      "162/200: ================================: tf.Tensor(0.76510316, shape=(), dtype=float32)\n",
      "163/200: ================================: tf.Tensor(0.81647485, shape=(), dtype=float32)\n",
      "164/200: ================================: tf.Tensor(0.75167525, shape=(), dtype=float32)\n",
      "165/200: ================================: tf.Tensor(0.68380463, shape=(), dtype=float32)\n",
      "166/200: ================================: tf.Tensor(0.7692669, shape=(), dtype=float32)\n",
      "167/200: ================================: tf.Tensor(1.0194197, shape=(), dtype=float32)\n",
      "168/200: ================================: tf.Tensor(0.6846726, shape=(), dtype=float32)\n",
      "169/200: ================================: tf.Tensor(0.717958, shape=(), dtype=float32)\n",
      "170/200: ================================: tf.Tensor(0.78401107, shape=(), dtype=float32)\n",
      "171/200: ================================: tf.Tensor(0.6042166, shape=(), dtype=float32)\n",
      "172/200: ================================: tf.Tensor(0.7278034, shape=(), dtype=float32)\n",
      "173/200: ================================: tf.Tensor(0.9243673, shape=(), dtype=float32)\n",
      "174/200: ================================: tf.Tensor(0.6371006, shape=(), dtype=float32)\n",
      "175/200: ================================: tf.Tensor(0.6776152, shape=(), dtype=float32)\n",
      "176/200: ================================: tf.Tensor(0.7344683, shape=(), dtype=float32)\n",
      "177/200: ================================: tf.Tensor(0.70168215, shape=(), dtype=float32)\n",
      "178/200: ================================: tf.Tensor(0.6888519, shape=(), dtype=float32)\n",
      "179/200: ================================: tf.Tensor(0.70341814, shape=(), dtype=float32)\n",
      "180/200: ================================: tf.Tensor(0.7905996, shape=(), dtype=float32)\n",
      "181/200: ================================: tf.Tensor(0.74590397, shape=(), dtype=float32)\n",
      "182/200: ================================: tf.Tensor(0.79077303, shape=(), dtype=float32)\n",
      "183/200: ================================: tf.Tensor(0.9193439, shape=(), dtype=float32)\n",
      "184/200: ================================: tf.Tensor(0.77164096, shape=(), dtype=float32)\n",
      "185/200: ================================: tf.Tensor(0.79703456, shape=(), dtype=float32)\n"
     ]
    },
    {
     "name": "stdout",
     "output_type": "stream",
     "text": [
      "186/200: ================================: tf.Tensor(0.7549855, shape=(), dtype=float32)\n",
      "187/200: ================================: tf.Tensor(0.89498097, shape=(), dtype=float32)\n",
      "188/200: ================================: tf.Tensor(0.77358687, shape=(), dtype=float32)\n",
      "189/200: ================================: tf.Tensor(0.8787221, shape=(), dtype=float32)\n",
      "190/200: ================================: tf.Tensor(0.6290147, shape=(), dtype=float32)\n",
      "191/200: ================================: tf.Tensor(0.90592104, shape=(), dtype=float32)\n",
      "192/200: ================================: tf.Tensor(0.96489346, shape=(), dtype=float32)\n",
      "193/200: ================================: tf.Tensor(0.5906268, shape=(), dtype=float32)\n",
      "194/200: ================================: tf.Tensor(0.7243646, shape=(), dtype=float32)\n",
      "195/200: ================================: tf.Tensor(0.835052, shape=(), dtype=float32)\n",
      "196/200: ================================: tf.Tensor(0.80982137, shape=(), dtype=float32)\n",
      "197/200: ================================: tf.Tensor(0.7993299, shape=(), dtype=float32)\n",
      "198/200: ================================: tf.Tensor(0.8077261, shape=(), dtype=float32)\n",
      "199/200: ================================: tf.Tensor(0.6621533, shape=(), dtype=float32)\n",
      "200/200: ================================: tf.Tensor(0.94341516, shape=(), dtype=float32)\n"
     ]
    }
   ],
   "source": [
    "EPOCHS = 200\n",
    "history = train(data_train, EPOCHS)"
   ]
  },
  {
   "cell_type": "code",
   "execution_count": 156,
   "id": "ff7bad5d",
   "metadata": {},
   "outputs": [
    {
     "data": {
      "image/png": "[encoded data removed]",
      "text/plain": [
       "<Figure size 640x480 with 1 Axes>"
      ]
     },
     "metadata": {},
     "output_type": "display_data"
    }
   ],
   "source": [
    "plt.plot(history)\n",
    "plt.grid(True)\n",
    "plt.show()"
   ]
  },
  {
   "cell_type": "code",
   "execution_count": 157,
   "id": "78319df2",
   "metadata": {},
   "outputs": [
    {
     "name": "stdout",
     "output_type": "stream",
     "text": [
      "1/1 [==============================] - 0s 115ms/step\n"
     ]
    }
   ],
   "source": [
    "img = generator.predict(\n",
    "    np.expand_dims([(np.random.randint(4)-2)*0.5 for _ in range(hiden_dim)], axis=0)\n",
    ")"
   ]
  },
  {
   "cell_type": "code",
   "execution_count": 158,
   "id": "d7c18669",
   "metadata": {
    "scrolled": true
   },
   "outputs": [
    {
     "data": {
      "text/plain": [
       "<matplotlib.image.AxesImage at 0x3289411f0>"
      ]
     },
     "execution_count": 158,
     "metadata": {},
     "output_type": "execute_result"
    },
    {
     "data": {
      "image/png": "[encoded data removed]",
      "text/plain": [
       "<Figure size 640x480 with 1 Axes>"
      ]
     },
     "metadata": {},
     "output_type": "display_data"
    }
   ],
   "source": [
    "plt.imshow(img[0])"
   ]
  },
  {
   "cell_type": "code",
   "execution_count": 159,
   "id": "9e0cc0b2",
   "metadata": {},
   "outputs": [],
   "source": [
    "gen_imgs = []\n",
    "for i in range(154):\n",
    "    img = generator.predict(\n",
    "        np.expand_dims([(np.random.randint(4)-2)*0.5 for _ in range(hiden_dim)], axis=0),\n",
    "        verbose = 0\n",
    "                            )\n",
    "    gen_imgs.append(img[0])"
   ]
  },
  {
   "cell_type": "code",
   "execution_count": 160,
   "id": "d1988cd1",
   "metadata": {},
   "outputs": [
    {
     "data": {
      "text/plain": [
       "<matplotlib.image.AxesImage at 0x2f72d1b50>"
      ]
     },
     "execution_count": 160,
     "metadata": {},
     "output_type": "execute_result"
    },
    {
     "data": {
      "image/png": "[encoded data removed]",
      "text/plain": [
       "<Figure size 640x480 with 1 Axes>"
      ]
     },
     "metadata": {},
     "output_type": "display_data"
    }
   ],
   "source": [
    "plt.imshow(gen_imgs[12])"
   ]
  },
  {
   "cell_type": "code",
   "execution_count": 161,
   "id": "ea0e768e",
   "metadata": {},
   "outputs": [],
   "source": [
    "orig_imgs = load_data(img_paths[:154])"
   ]
  },
  {
   "cell_type": "code",
   "execution_count": 162,
   "id": "9a952e7b",
   "metadata": {},
   "outputs": [
    {
     "name": "stdout",
     "output_type": "stream",
     "text": [
      "0.0021431907\n"
     ]
    }
   ],
   "source": [
    "#mse with original imgs\n",
    "mse_list_original = []\n",
    "for i in range(len(orig_imgs)):\n",
    "    mse_list_original.append(np.mean(np.square(orig_imgs[i]-gen_imgs[i])))\n",
    "mse = np.mean(mse_list_original)\n",
    "print(mse)"
   ]
  },
  {
   "cell_type": "code",
   "execution_count": 163,
   "id": "1f082c3f",
   "metadata": {},
   "outputs": [
    {
     "name": "stdout",
     "output_type": "stream",
     "text": [
      "0.0062816516\n"
     ]
    }
   ],
   "source": [
    "#mse with proliv\n",
    "mse_list_proliv = []\n",
    "for i in range(len(orig_imgs)):\n",
    "    mse_list_proliv.append(np.mean(np.square(data_proliv[i]-gen_imgs[i])))\n",
    "mse = np.mean(mse_list_proliv)\n",
    "print(mse)"
   ]
  },
  {
   "cell_type": "code",
   "execution_count": 164,
   "id": "5b6beea3",
   "metadata": {},
   "outputs": [
    {
     "data": {
      "text/plain": [
       "(0.0040944885, 0.007968784)"
      ]
     },
     "execution_count": 164,
     "metadata": {},
     "output_type": "execute_result"
    }
   ],
   "source": [
    "np.min(mse_list_proliv), np.max(mse_list_original)"
   ]
  },
  {
   "cell_type": "code",
   "execution_count": 165,
   "id": "f8fb4544",
   "metadata": {},
   "outputs": [],
   "source": [
    "def get_preds(imgs, threshold=1):\n",
    "    labels = []\n",
    "    for i in range(len(imgs)):\n",
    "        pred = generator.predict(\n",
    "            np.expand_dims([(np.random.randint(4)-2)*0.5 for _ in range(hiden_dim)], axis=0),\n",
    "            verbose = 0\n",
    "                            )\n",
    "        mse = np.mean(np.square(imgs[i]-pred[0]))\n",
    "        if mse < 0.006*threshold:\n",
    "            labels.append(0)\n",
    "        else: \n",
    "            labels.append(1)\n",
    "    return np.asarray(labels)"
   ]
  },
  {
   "cell_type": "code",
   "execution_count": 166,
   "id": "e8ba06d2",
   "metadata": {
    "scrolled": true
   },
   "outputs": [
    {
     "name": "stdout",
     "output_type": "stream",
     "text": [
      "TPR = 0.9767441860465116, FPR = 0.8144611186903138, threshold = 0.0021, c = 0.7\n",
      "TPR = 0.9457364341085271, FPR = 0.8221009549795362, threshold = 0.0022500000000000003, c = 0.75\n",
      "TPR = 0.9147286821705426, FPR = 0.8283765347885402, threshold = 0.0024000000000000002, c = 0.8\n",
      "TPR = 0.8914728682170543, FPR = 0.842837653478854, threshold = 0.00255, c = 0.85\n",
      "TPR = 0.8449612403100775, FPR = 0.8564802182810368, threshold = 0.0027, c = 0.9\n",
      "TPR = 0.8062015503875969, FPR = 0.8758526603001364, threshold = 0.00285, c = 0.95\n",
      "TPR = 0.7131782945736435, FPR = 0.9050477489768076, threshold = 0.003, c = 1\n",
      "TPR = 0.6046511627906976, FPR = 0.9437926330150068, threshold = 0.0033000000000000004, c = 1.1\n",
      "TPR = 0.4883720930232558, FPR = 0.9637107776261937, threshold = 0.0036, c = 1.2\n",
      "TPR = 0.26356589147286824, FPR = 0.9735334242837653, threshold = 0.0042, c = 1.4\n",
      "TPR = 0.14728682170542637, FPR = 0.9770804911323329, threshold = 0.0045000000000000005, c = 1.5\n",
      "TPR = 0.10077519379844961, FPR = 0.9795361527967258, threshold = 0.0048000000000000004, c = 1.6\n",
      "TPR = 0.03875968992248062, FPR = 0.9844474761255116, threshold = 0.0057, c = 1.9\n",
      "TPR = 0.03875968992248062, FPR = 0.9871759890859482, threshold = 0.006, c = 2\n",
      "TPR = 0.03875968992248062, FPR = 0.9882673942701228, threshold = 0.0064800000000000005, c = 2.16\n"
     ]
    }
   ],
   "source": [
    "coef = [0.7, 0.75, 0.8, 0.85, 0.9, 0.95, 1, 1.1, 1.2, 1.4, 1.5, 1.6, 1.9, 2, 2.16]\n",
    "for c in coef:\n",
    "    tn, fp, fn, tp = confusion_matrix(df_test['class'], get_preds(test_data, c)).ravel()\n",
    "    print(\"TPR = {}, FPR = {}, threshold = {}, c = {}\".format(tp/(tp+fn), tn/(tn+fp), c*0.003, c))"
   ]
  },
  {
   "cell_type": "markdown",
   "id": "e88e6fe3",
   "metadata": {},
   "source": [
    "К сожалению, с использованием полученного генератора не удалось достичь требуемых метрик даже с перебором трэшхолда на тестовой выборке. Это может быть объяснено недостаточно хорошим подбором гиперпараметров и конфигурации модели. Так как обучение GAN моделей требует большое количество ресурсов вычислительных ресурсов и времени, было принято решение оставить финальной моделью модель из первого эксперимента."
   ]
  },
  {
   "cell_type": "code",
   "execution_count": null,
   "id": "187fd70b",
   "metadata": {},
   "outputs": [],
   "source": []
  }
 ],
 "metadata": {
  "kernelspec": {
   "display_name": "Python 3 (ipykernel)",
   "language": "python",
   "name": "python3"
  },
  "language_info": {
   "codemirror_mode": {
    "name": "ipython",
    "version": 3
   },
   "file_extension": ".py",
   "mimetype": "text/x-python",
   "name": "python",
   "nbconvert_exporter": "python",
   "pygments_lexer": "ipython3",
   "version": "3.9.16"
  }
 },
 "nbformat": 4,
 "nbformat_minor": 5
}
